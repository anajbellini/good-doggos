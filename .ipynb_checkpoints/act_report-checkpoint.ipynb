{
 "cells": [
  {
   "cell_type": "markdown",
   "metadata": {},
   "source": [
    "# Good Doggos: Data Analysis\n",
    "_by **Ana Júlia Bellini**_\n",
    "\n",
    "_10 Dec 2021_"
   ]
  },
  {
   "cell_type": "markdown",
   "metadata": {},
   "source": [
    "## Introduction"
   ]
  },
  {
   "cell_type": "markdown",
   "metadata": {},
   "source": [
    "After the whole wrangling process performed over @WeRateDogs Tweets' data, we're finally able to analyse this information to try and get insightful information and find patterns among these Tweets.\n",
    "\n",
    "Over the following sections, we'll focus our investigation on the dog **breeds**, **names**, and **stages**."
   ]
  },
  {
   "cell_type": "markdown",
   "metadata": {},
   "source": [
    "## Breeds"
   ]
  },
  {
   "cell_type": "markdown",
   "metadata": {},
   "source": [
    "### Most mentioned breeds over the entire timespan"
   ]
  },
  {
   "cell_type": "markdown",
   "metadata": {},
   "source": [
    "<img src='./charts/breeds-most-mentioned-overall.png'>"
   ]
  },
  {
   "cell_type": "markdown",
   "metadata": {},
   "source": [
    "### Most liked breeds"
   ]
  },
  {
   "cell_type": "markdown",
   "metadata": {},
   "source": [
    "<img src='./charts/breeds-most-liked.png'>"
   ]
  },
  {
   "cell_type": "markdown",
   "metadata": {},
   "source": [
    "### Most retweeted breeds"
   ]
  },
  {
   "cell_type": "markdown",
   "metadata": {},
   "source": [
    "<img src='./charts/breeds-most-retweeted.png'>"
   ]
  },
  {
   "cell_type": "markdown",
   "metadata": {},
   "source": [
    "<div class=\"alert alert-success\">\n",
    "  <ul>\n",
    "    <li>There is some notable \"preference\" for <b>Golden Retrievers</b>, whose number of mentions, likes, and retweets are significantly higher than other breeds'.</li>\n",
    "    <li>Interestingly enough, <b>French Bulldogs and Cocker Spaniels aren't among the 10 most mentioned breeds</b>, but the public seem to enjoy their posts, since <b>they show up in the list of most liked and most retweeted breeds</b>.</li>\n",
    "    <li>There is <b>no obvious preference for dog sizes</b>. We can see a mix of large and small dogs on the most liked list.</li>\n",
    "  </ul>\n",
    "</div>"
   ]
  },
  {
   "cell_type": "markdown",
   "metadata": {},
   "source": [
    "## Names"
   ]
  },
  {
   "cell_type": "markdown",
   "metadata": {},
   "source": [
    "### Most common names"
   ]
  },
  {
   "cell_type": "markdown",
   "metadata": {},
   "source": [
    "|   Name  | # of Tweets |\n",
    "|:-------:|:-----------:|\n",
    "|  Oliver |      10     |\n",
    "| Charlie |      10     |\n",
    "|  Cooper |      10     |\n",
    "|  Tucker |      9      |\n",
    "|   Lucy  |      9      |\n",
    "|  Penny  |      9      |\n",
    "| Winston |      8      |\n",
    "|  Sadie  |      8      |\n",
    "|   Lola  |      7      |\n",
    "|  Daisy  |      7      |"
   ]
  },
  {
   "cell_type": "markdown",
   "metadata": {},
   "source": [
    "### Most pupular names per breed"
   ]
  },
  {
   "cell_type": "markdown",
   "metadata": {},
   "source": [
    "This analysis considers the 10 most mentioned breeds."
   ]
  },
  {
   "cell_type": "markdown",
   "metadata": {},
   "source": [
    "|        Breed       | Most Popular Name |\n",
    "|:------------------:|:-----------------:|\n",
    "|      chihuahua     |       Penny       |\n",
    "|        chow        |        Lola       |\n",
    "|  golden retriever  |        Lucy       |\n",
    "| labrador retriever |       Sadie       |\n",
    "|      malamute      |        Odin       |\n",
    "|      pembroke      |       Cassie      |\n",
    "|     pomeranian     |      Emanuel      |\n",
    "|         pug        |        Opal       |\n",
    "|       samoyed      |       Atlas       |\n",
    "|     toy poodle     |        Lucy       |"
   ]
  },
  {
   "cell_type": "markdown",
   "metadata": {},
   "source": [
    "<div class=\"alert alert-success\">\n",
    "  <ul>\n",
    "    <li>Just <b>4 out of 10</b> most popular names per breed are among the most popular names overall: Penny, Lola, Lucy, Sadie.</li>\n",
    "    <li>These four names are usually given to <b>female dogs</b>.</li>\n",
    "  </ul>\n",
    "</div>"
   ]
  },
  {
   "cell_type": "markdown",
   "metadata": {},
   "source": [
    "## Stages"
   ]
  },
  {
   "cell_type": "markdown",
   "metadata": {},
   "source": [
    "For this section, let's take into account the Dogtionary (extracted from the book [_#WeRateDogs: The Most Hilarious and Adorable Pups You've Ever Seen_](https://www.amazon.com/WeRateDogs-Most-Hilarious-Adorable-Youve/dp/1510717145)):"
   ]
  },
  {
   "cell_type": "markdown",
   "metadata": {},
   "source": [
    "<img src='./charts/dogtionary-combined.png'>"
   ]
  },
  {
   "cell_type": "markdown",
   "metadata": {},
   "source": [
    "### Tweets per stage"
   ]
  },
  {
   "cell_type": "markdown",
   "metadata": {},
   "source": [
    "<img src='./charts/stages-most-mentioned.png'>"
   ]
  },
  {
   "cell_type": "markdown",
   "metadata": {},
   "source": [
    "### Likes per stage"
   ]
  },
  {
   "cell_type": "markdown",
   "metadata": {},
   "source": [
    "<img src='./charts/stages-most-liked.png'>"
   ]
  },
  {
   "cell_type": "markdown",
   "metadata": {},
   "source": [
    "<div class=\"alert alert-success\">\n",
    "  <ul>\n",
    "    <li>People like to see and interact more with <b>pupper</b> Tweets.</li>\n",
    "    <li><b>Doggo</b> Tweets are way less mentioned, but they do get a lot of likes.</li>\n",
    "    <li><b>Floofers</b> usually don't get as much attention from the public as other stages.</li>\n",
    "  </ul>\n",
    "</div>"
   ]
  },
  {
   "cell_type": "markdown",
   "metadata": {},
   "source": [
    "## Opportunities for Future Research"
   ]
  },
  {
   "cell_type": "markdown",
   "metadata": {},
   "source": [
    "- It could be worth to analyse public preferences based on the dog's gender.\n",
    "- Create algorithms to predict the potential of a Tweet getting more likes and retweets depending on the dog's name.\n",
    "- Analyse if there was some breed getting increasingly popular over time, among the @WeRateDogs's followers."
   ]
  }
 ],
 "metadata": {
  "interpreter": {
   "hash": "bf0c053462f53d8d2a28d2d050e04ba4dde5010f43e1353fcf8d8eaae181c12e"
  },
  "kernelspec": {
   "display_name": "Python 3 (ipykernel)",
   "language": "python",
   "name": "python3"
  },
  "language_info": {
   "codemirror_mode": {
    "name": "ipython",
    "version": 3
   },
   "file_extension": ".py",
   "mimetype": "text/x-python",
   "name": "python",
   "nbconvert_exporter": "python",
   "pygments_lexer": "ipython3",
   "version": "3.8.12"
  }
 },
 "nbformat": 4,
 "nbformat_minor": 2
}
